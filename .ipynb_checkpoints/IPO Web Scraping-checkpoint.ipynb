{
 "cells": [
  {
   "cell_type": "code",
   "execution_count": null,
   "id": "f7104893-22e4-4d60-a08a-a4df15148a50",
   "metadata": {},
   "outputs": [],
   "source": [
    "# import requests\n",
    "# import pandas as pd\n",
    "\n",
    "# url = \"https://e-ipo.co.id/id/ipo/index?per-page=&query=&sort=-updated_at&status_id=5&view=grid\"\n",
    "# params = {\n",
    "#     'status_id': 5,\n",
    "#     'sort': '-updated_at',\n",
    "#     'view': 'grid',\n",
    "#     'per-page': 100\n",
    "# }\n",
    "\n",
    "# headers = {\n",
    "#     'User-Agent': 'Mozilla/5.0',\n",
    "#     'Accept': 'application/json'\n",
    "# }\n",
    "\n"
   ]
  },
  {
   "cell_type": "code",
   "execution_count": 2,
   "id": "6c8eb49a-0e93-444b-9b1c-bc2524b160f1",
   "metadata": {},
   "outputs": [],
   "source": [
    "import requests\n",
    "from bs4 import BeautifulSoup\n",
    "import pandas as pd\n",
    "import cloudscraper"
   ]
  },
  {
   "cell_type": "code",
   "execution_count": 15,
   "id": "79570437-cda2-4c4e-9e95-ebcd8fd0c0c3",
   "metadata": {},
   "outputs": [],
   "source": [
    "base_url = 'https://e-ipo.co.id/'\n",
    "listing = []"
   ]
  },
  {
   "cell_type": "code",
   "execution_count": 16,
   "id": "8fa93af1-5e3b-4bac-a485-9b99d6f28b68",
   "metadata": {},
   "outputs": [],
   "source": [
    "scraper = cloudscraper.create_scraper()\n",
    "response = scraper.get('https://e-ipo.co.id/id/ipo/index', params={'page': 1, 'per-page': 12, 'sort': '-updated_at',\n",
    "                                                                   'status_id': 5,'view': 'grid'\n",
    "                                                                  }\n",
    "                      )\n",
    "\n"
   ]
  },
  {
   "cell_type": "code",
   "execution_count": 17,
   "id": "27f30ffc-a057-496a-bb02-0d632490c51f",
   "metadata": {},
   "outputs": [],
   "source": [
    "soup = BeautifulSoup(response.text)"
   ]
  },
  {
   "cell_type": "code",
   "execution_count": 18,
   "id": "df3ca61f-1e93-4190-8315-3b27ec996d74",
   "metadata": {},
   "outputs": [],
   "source": [
    "f = soup.find_all('div', class_='pricing-box margin-top30 best pricing-box-4')"
   ]
  },
  {
   "cell_type": "code",
   "execution_count": 26,
   "id": "729945b8-8201-4413-9a2a-7af494591e74",
   "metadata": {
    "scrolled": true
   },
   "outputs": [
    {
     "name": "stdout",
     "output_type": "stream",
     "text": [
      "Page number: 1\n",
      "Page number: 2\n",
      "Page number: 3\n",
      "Page number: 4\n",
      "Page number: 5\n",
      "Page number: 6\n",
      "Page number: 7\n",
      "Page number: 8\n",
      "Page number: 9\n",
      "Page number: 10\n",
      "Page number: 11\n",
      "Page number: 12\n",
      "Page number: 13\n",
      "Page number: 14\n",
      "Page number: 15\n",
      "Page number: 16\n",
      "Page number: 17\n",
      "Page number: 18\n",
      "Page number: 19\n"
     ]
    }
   ],
   "source": [
    "for n in range(1,20):\n",
    "    response = scraper.get('https://e-ipo.co.id/id/ipo/index', params={'page': n, 'per-page': 12, 'sort': '-updated_at',\n",
    "                                                                   'status_id': 5,'view': 'grid'\n",
    "                                                                  }\n",
    "                      )\n",
    "    soup = BeautifulSoup(response.text)\n",
    "    f = soup.find_all('div', class_='pricing-box margin-top30 best pricing-box-4')\n",
    "    print(f'Page number: {n}')\n",
    "    for f in soup.find_all('div', class_='pricing-box margin-top30 best pricing-box-4'):\n",
    "        title = f.select_one('h5.nobottommargin')\n",
    "        name = title.get_text(separator=' ', strip=True)\n",
    "    \n",
    "        exten = f.select_one('div.pricing-action a')\n",
    "        ext = exten.get('href')\n",
    "        link = base_url+ext\n",
    "    \n",
    "        listing.append({'Name': name, 'Link': link})"
   ]
  },
  {
   "cell_type": "code",
   "execution_count": 27,
   "id": "98c8b347-90d4-4689-b9cd-fb55685d1f29",
   "metadata": {},
   "outputs": [],
   "source": [
    "df = pd.DataFrame(listing)"
   ]
  },
  {
   "cell_type": "code",
   "execution_count": 28,
   "id": "662f4028-84d7-4202-bc30-8001185ac682",
   "metadata": {},
   "outputs": [
    {
     "data": {
      "text/html": [
       "<div>\n",
       "<style scoped>\n",
       "    .dataframe tbody tr th:only-of-type {\n",
       "        vertical-align: middle;\n",
       "    }\n",
       "\n",
       "    .dataframe tbody tr th {\n",
       "        vertical-align: top;\n",
       "    }\n",
       "\n",
       "    .dataframe thead th {\n",
       "        text-align: right;\n",
       "    }\n",
       "</style>\n",
       "<table border=\"1\" class=\"dataframe\">\n",
       "  <thead>\n",
       "    <tr style=\"text-align: right;\">\n",
       "      <th></th>\n",
       "      <th>Name</th>\n",
       "      <th>Link</th>\n",
       "    </tr>\n",
       "  </thead>\n",
       "  <tbody>\n",
       "    <tr>\n",
       "      <th>0</th>\n",
       "      <td>PT Raja Roti Cemerlang Tbk (BRRC) Syariah</td>\n",
       "      <td>https://e-ipo.co.id//id/ipo/328/brrc-pt-raja-r...</td>\n",
       "    </tr>\n",
       "    <tr>\n",
       "      <th>1</th>\n",
       "      <td>PT Kentanix Supra International Tbk (KSIX) Sya...</td>\n",
       "      <td>https://e-ipo.co.id//id/ipo/325/ksix-pt-kentan...</td>\n",
       "    </tr>\n",
       "    <tr>\n",
       "      <th>2</th>\n",
       "      <td>PT Daya Intiguna Yasa Tbk (MDIY) Syariah</td>\n",
       "      <td>https://e-ipo.co.id//id/ipo/321/mdiy-pt-daya-i...</td>\n",
       "    </tr>\n",
       "    <tr>\n",
       "      <th>3</th>\n",
       "      <td>PT Adaro Andalan Indonesia Tbk (AADI) Syariah</td>\n",
       "      <td>https://e-ipo.co.id//id/ipo/319/aadi-pt-adaro-...</td>\n",
       "    </tr>\n",
       "    <tr>\n",
       "      <th>4</th>\n",
       "      <td>PT Daaz Bara Lestari Tbk (DAAZ) Syariah</td>\n",
       "      <td>https://e-ipo.co.id//id/ipo/316/daaz-pt-daaz-b...</td>\n",
       "    </tr>\n",
       "    <tr>\n",
       "      <th>...</th>\n",
       "      <td>...</td>\n",
       "      <td>...</td>\n",
       "    </tr>\n",
       "    <tr>\n",
       "      <th>231</th>\n",
       "      <td>PT Trimegah Karya Pratama Tbk (UVCR)</td>\n",
       "      <td>https://e-ipo.co.id//id/ipo/38/uvcr-pt-trimega...</td>\n",
       "    </tr>\n",
       "    <tr>\n",
       "      <th>232</th>\n",
       "      <td>PT Bundamedik Tbk (BMHS)</td>\n",
       "      <td>https://e-ipo.co.id//id/ipo/37/bmhs-pt-bundame...</td>\n",
       "    </tr>\n",
       "    <tr>\n",
       "      <th>233</th>\n",
       "      <td>PT Bank Multiarta Sentosa Tbk (MASB)</td>\n",
       "      <td>https://e-ipo.co.id//id/ipo/36/masb-pt-bank-mu...</td>\n",
       "    </tr>\n",
       "    <tr>\n",
       "      <th>234</th>\n",
       "      <td>PT Archi Indonesia Tbk (ARCI)</td>\n",
       "      <td>https://e-ipo.co.id//id/ipo/35/arci-pt-archi-i...</td>\n",
       "    </tr>\n",
       "    <tr>\n",
       "      <th>235</th>\n",
       "      <td>PT Ulima Nitra Tbk (UNIQ)</td>\n",
       "      <td>https://e-ipo.co.id//id/ipo/2/uniq-pt-ulima-ni...</td>\n",
       "    </tr>\n",
       "  </tbody>\n",
       "</table>\n",
       "<p>236 rows × 2 columns</p>\n",
       "</div>"
      ],
      "text/plain": [
       "                                                  Name  \\\n",
       "0            PT Raja Roti Cemerlang Tbk (BRRC) Syariah   \n",
       "1    PT Kentanix Supra International Tbk (KSIX) Sya...   \n",
       "2             PT Daya Intiguna Yasa Tbk (MDIY) Syariah   \n",
       "3        PT Adaro Andalan Indonesia Tbk (AADI) Syariah   \n",
       "4              PT Daaz Bara Lestari Tbk (DAAZ) Syariah   \n",
       "..                                                 ...   \n",
       "231               PT Trimegah Karya Pratama Tbk (UVCR)   \n",
       "232                           PT Bundamedik Tbk (BMHS)   \n",
       "233               PT Bank Multiarta Sentosa Tbk (MASB)   \n",
       "234                      PT Archi Indonesia Tbk (ARCI)   \n",
       "235                          PT Ulima Nitra Tbk (UNIQ)   \n",
       "\n",
       "                                                  Link  \n",
       "0    https://e-ipo.co.id//id/ipo/328/brrc-pt-raja-r...  \n",
       "1    https://e-ipo.co.id//id/ipo/325/ksix-pt-kentan...  \n",
       "2    https://e-ipo.co.id//id/ipo/321/mdiy-pt-daya-i...  \n",
       "3    https://e-ipo.co.id//id/ipo/319/aadi-pt-adaro-...  \n",
       "4    https://e-ipo.co.id//id/ipo/316/daaz-pt-daaz-b...  \n",
       "..                                                 ...  \n",
       "231  https://e-ipo.co.id//id/ipo/38/uvcr-pt-trimega...  \n",
       "232  https://e-ipo.co.id//id/ipo/37/bmhs-pt-bundame...  \n",
       "233  https://e-ipo.co.id//id/ipo/36/masb-pt-bank-mu...  \n",
       "234  https://e-ipo.co.id//id/ipo/35/arci-pt-archi-i...  \n",
       "235  https://e-ipo.co.id//id/ipo/2/uniq-pt-ulima-ni...  \n",
       "\n",
       "[236 rows x 2 columns]"
      ]
     },
     "execution_count": 28,
     "metadata": {},
     "output_type": "execute_result"
    }
   ],
   "source": [
    "df"
   ]
  },
  {
   "cell_type": "code",
   "execution_count": 24,
   "id": "427cbbd7-ade2-48ee-9d1c-6323d210cc9b",
   "metadata": {},
   "outputs": [
    {
     "data": {
      "text/plain": [
       "19"
      ]
     },
     "execution_count": 24,
     "metadata": {},
     "output_type": "execute_result"
    }
   ],
   "source": [
    "n"
   ]
  },
  {
   "cell_type": "code",
   "execution_count": 25,
   "id": "f3b4683a-2d5c-412b-bea0-4e163a7251da",
   "metadata": {},
   "outputs": [
    {
     "data": {
      "text/plain": [
       "'this is 19'"
      ]
     },
     "execution_count": 25,
     "metadata": {},
     "output_type": "execute_result"
    }
   ],
   "source": [
    "f'this is {n}'"
   ]
  },
  {
   "cell_type": "code",
   "execution_count": null,
   "id": "55c04608-2d98-4055-b1fa-78130bfb0d4a",
   "metadata": {},
   "outputs": [],
   "source": []
  }
 ],
 "metadata": {
  "kernelspec": {
   "display_name": "Python 3 (ipykernel)",
   "language": "python",
   "name": "python3"
  },
  "language_info": {
   "codemirror_mode": {
    "name": "ipython",
    "version": 3
   },
   "file_extension": ".py",
   "mimetype": "text/x-python",
   "name": "python",
   "nbconvert_exporter": "python",
   "pygments_lexer": "ipython3",
   "version": "3.10.16"
  }
 },
 "nbformat": 4,
 "nbformat_minor": 5
}
