{
 "cells": [
  {
   "cell_type": "code",
   "execution_count": null,
   "id": "f7104893-22e4-4d60-a08a-a4df15148a50",
   "metadata": {},
   "outputs": [],
   "source": [
    "# import requests\n",
    "# import pandas as pd\n",
    "\n",
    "# url = \"https://e-ipo.co.id/id/ipo/index?per-page=&query=&sort=-updated_at&status_id=5&view=grid\"\n",
    "# params = {\n",
    "#     'status_id': 5,\n",
    "#     'sort': '-updated_at',\n",
    "#     'view': 'grid',\n",
    "#     'per-page': 100\n",
    "# }\n",
    "\n",
    "# headers = {\n",
    "#     'User-Agent': 'Mozilla/5.0',\n",
    "#     'Accept': 'application/json'\n",
    "# }\n",
    "\n"
   ]
  },
  {
   "cell_type": "code",
   "execution_count": 1,
   "id": "6c8eb49a-0e93-444b-9b1c-bc2524b160f1",
   "metadata": {},
   "outputs": [],
   "source": [
    "import requests\n",
    "from bs4 import BeautifulSoup\n",
    "import pandas as pd\n",
    "import cloudscraper"
   ]
  },
  {
   "cell_type": "code",
   "execution_count": 2,
   "id": "79570437-cda2-4c4e-9e95-ebcd8fd0c0c3",
   "metadata": {},
   "outputs": [],
   "source": [
    "base_url = 'https://e-ipo.co.id/'\n",
    "listing = []"
   ]
  },
  {
   "cell_type": "code",
   "execution_count": 3,
   "id": "8fa93af1-5e3b-4bac-a485-9b99d6f28b68",
   "metadata": {},
   "outputs": [],
   "source": [
    "scraper = cloudscraper.create_scraper()\n",
    "# response = scraper.get('https://e-ipo.co.id/id/ipo/index', params={'page': 1, 'per-page': 12, 'sort': '-updated_at',\n",
    "#                                                                    'status_id': 5,'view': 'grid'\n",
    "#                                                                   }\n",
    "#                       )\n",
    "\n"
   ]
  },
  {
   "cell_type": "markdown",
   "id": "4b776105-e780-4493-bd51-d8ac119ba2fa",
   "metadata": {},
   "source": [
    "## Get Link for Details of IPO Stock (and Store it in a dataframe)"
   ]
  },
  {
   "cell_type": "code",
   "execution_count": 5,
   "id": "729945b8-8201-4413-9a2a-7af494591e74",
   "metadata": {
    "scrolled": true
   },
   "outputs": [
    {
     "name": "stdout",
     "output_type": "stream",
     "text": [
      "Page number: 1\n",
      "Page number: 2\n",
      "Page number: 3\n",
      "Page number: 4\n",
      "Page number: 5\n",
      "Page number: 6\n",
      "Page number: 7\n",
      "Page number: 8\n",
      "Page number: 9\n",
      "Page number: 10\n",
      "Page number: 11\n",
      "Page number: 12\n",
      "Page number: 13\n",
      "Page number: 14\n",
      "Page number: 15\n",
      "Page number: 16\n",
      "Page number: 17\n",
      "Page number: 18\n",
      "Page number: 19\n"
     ]
    }
   ],
   "source": [
    "# for n in range(1,20):\n",
    "#     response = scraper.get('https://e-ipo.co.id/id/ipo/index', params={'page': n, 'per-page': 12, 'sort': '-updated_at',\n",
    "#                                                                    'status_id': 5,'view': 'grid'\n",
    "#                                                                   }\n",
    "#                       )\n",
    "#     soup = BeautifulSoup(response.text)\n",
    "#     f = soup.find_all('div', class_='pricing-box margin-top30 best pricing-box-4')\n",
    "#     print(f'Page number: {n}')\n",
    "#     for f in soup.find_all('div', class_='pricing-box margin-top30 best pricing-box-4'):\n",
    "#         title = f.select_one('h5.nobottommargin')\n",
    "#         name = title.get_text(separator=' ', strip=True)\n",
    "    \n",
    "#         exten = f.select_one('div.pricing-action a')\n",
    "#         ext = exten.get('href')\n",
    "#         link = base_url+ext\n",
    "    \n",
    "#         listing.append({'Name': name, 'Link': link})"
   ]
  },
  {
   "cell_type": "code",
   "execution_count": 21,
   "id": "98c8b347-90d4-4689-b9cd-fb55685d1f29",
   "metadata": {},
   "outputs": [],
   "source": [
    "df = pd.DataFrame(listing)\n",
    "df.to_excel('IPO Stock Links.xlsx', index=False)"
   ]
  },
  {
   "cell_type": "code",
   "execution_count": 22,
   "id": "abe41999-8495-4627-b70e-ba462350916c",
   "metadata": {},
   "outputs": [],
   "source": [
    "df = pd.read_excel('IPO Stock Links.xlsx',)"
   ]
  },
  {
   "cell_type": "code",
   "execution_count": 23,
   "id": "848c9b84-ea57-4835-a6ec-f7b9cbffabd9",
   "metadata": {},
   "outputs": [
    {
     "data": {
      "text/html": [
       "<div>\n",
       "<style scoped>\n",
       "    .dataframe tbody tr th:only-of-type {\n",
       "        vertical-align: middle;\n",
       "    }\n",
       "\n",
       "    .dataframe tbody tr th {\n",
       "        vertical-align: top;\n",
       "    }\n",
       "\n",
       "    .dataframe thead th {\n",
       "        text-align: right;\n",
       "    }\n",
       "</style>\n",
       "<table border=\"1\" class=\"dataframe\">\n",
       "  <thead>\n",
       "    <tr style=\"text-align: right;\">\n",
       "      <th></th>\n",
       "      <th>Name</th>\n",
       "      <th>Link</th>\n",
       "    </tr>\n",
       "  </thead>\n",
       "  <tbody>\n",
       "    <tr>\n",
       "      <th>0</th>\n",
       "      <td>PT Cipta Sarana Medika Tbk (DKHH) Syariah</td>\n",
       "      <td>https://e-ipo.co.id//id/ipo/335/dkhh-pt-cipta-...</td>\n",
       "    </tr>\n",
       "    <tr>\n",
       "      <th>1</th>\n",
       "      <td>PT Fore Kopi Indonesia Tbk (FORE) Syariah</td>\n",
       "      <td>https://e-ipo.co.id//id/ipo/334/fore-pt-fore-k...</td>\n",
       "    </tr>\n",
       "    <tr>\n",
       "      <th>2</th>\n",
       "      <td>PT Medela Potentia Tbk (MDLA) Syariah</td>\n",
       "      <td>https://e-ipo.co.id//id/ipo/331/mdla-pt-medela...</td>\n",
       "    </tr>\n",
       "    <tr>\n",
       "      <th>3</th>\n",
       "      <td>PT Yupi Indo Jelly Gum Tbk (YUPI) Syariah</td>\n",
       "      <td>https://e-ipo.co.id//id/ipo/333/yupi-pt-yupi-i...</td>\n",
       "    </tr>\n",
       "    <tr>\n",
       "      <th>4</th>\n",
       "      <td>PT Jantra Grupo Indonesia Tbk (KAQI) Syariah</td>\n",
       "      <td>https://e-ipo.co.id//id/ipo/330/kaqi-pt-jantra...</td>\n",
       "    </tr>\n",
       "    <tr>\n",
       "      <th>...</th>\n",
       "      <td>...</td>\n",
       "      <td>...</td>\n",
       "    </tr>\n",
       "    <tr>\n",
       "      <th>219</th>\n",
       "      <td>PT Trimegah Karya Pratama Tbk (UVCR)</td>\n",
       "      <td>https://e-ipo.co.id//id/ipo/38/uvcr-pt-trimega...</td>\n",
       "    </tr>\n",
       "    <tr>\n",
       "      <th>220</th>\n",
       "      <td>PT Bundamedik Tbk (BMHS)</td>\n",
       "      <td>https://e-ipo.co.id//id/ipo/37/bmhs-pt-bundame...</td>\n",
       "    </tr>\n",
       "    <tr>\n",
       "      <th>221</th>\n",
       "      <td>PT Bank Multiarta Sentosa Tbk (MASB)</td>\n",
       "      <td>https://e-ipo.co.id//id/ipo/36/masb-pt-bank-mu...</td>\n",
       "    </tr>\n",
       "    <tr>\n",
       "      <th>222</th>\n",
       "      <td>PT Archi Indonesia Tbk (ARCI)</td>\n",
       "      <td>https://e-ipo.co.id//id/ipo/35/arci-pt-archi-i...</td>\n",
       "    </tr>\n",
       "    <tr>\n",
       "      <th>223</th>\n",
       "      <td>PT Ulima Nitra Tbk (UNIQ)</td>\n",
       "      <td>https://e-ipo.co.id//id/ipo/2/uniq-pt-ulima-ni...</td>\n",
       "    </tr>\n",
       "  </tbody>\n",
       "</table>\n",
       "<p>224 rows × 2 columns</p>\n",
       "</div>"
      ],
      "text/plain": [
       "                                             Name  \\\n",
       "0       PT Cipta Sarana Medika Tbk (DKHH) Syariah   \n",
       "1       PT Fore Kopi Indonesia Tbk (FORE) Syariah   \n",
       "2           PT Medela Potentia Tbk (MDLA) Syariah   \n",
       "3       PT Yupi Indo Jelly Gum Tbk (YUPI) Syariah   \n",
       "4    PT Jantra Grupo Indonesia Tbk (KAQI) Syariah   \n",
       "..                                            ...   \n",
       "219          PT Trimegah Karya Pratama Tbk (UVCR)   \n",
       "220                      PT Bundamedik Tbk (BMHS)   \n",
       "221          PT Bank Multiarta Sentosa Tbk (MASB)   \n",
       "222                 PT Archi Indonesia Tbk (ARCI)   \n",
       "223                     PT Ulima Nitra Tbk (UNIQ)   \n",
       "\n",
       "                                                  Link  \n",
       "0    https://e-ipo.co.id//id/ipo/335/dkhh-pt-cipta-...  \n",
       "1    https://e-ipo.co.id//id/ipo/334/fore-pt-fore-k...  \n",
       "2    https://e-ipo.co.id//id/ipo/331/mdla-pt-medela...  \n",
       "3    https://e-ipo.co.id//id/ipo/333/yupi-pt-yupi-i...  \n",
       "4    https://e-ipo.co.id//id/ipo/330/kaqi-pt-jantra...  \n",
       "..                                                 ...  \n",
       "219  https://e-ipo.co.id//id/ipo/38/uvcr-pt-trimega...  \n",
       "220  https://e-ipo.co.id//id/ipo/37/bmhs-pt-bundame...  \n",
       "221  https://e-ipo.co.id//id/ipo/36/masb-pt-bank-mu...  \n",
       "222  https://e-ipo.co.id//id/ipo/35/arci-pt-archi-i...  \n",
       "223  https://e-ipo.co.id//id/ipo/2/uniq-pt-ulima-ni...  \n",
       "\n",
       "[224 rows x 2 columns]"
      ]
     },
     "execution_count": 23,
     "metadata": {},
     "output_type": "execute_result"
    }
   ],
   "source": []
  },
  {
   "cell_type": "code",
   "execution_count": null,
   "id": "bdf3d7bc-7484-46da-8897-176fa08945de",
   "metadata": {},
   "outputs": [],
   "source": []
  }
 ],
 "metadata": {
  "kernelspec": {
   "display_name": "Python 3 (ipykernel)",
   "language": "python",
   "name": "python3"
  },
  "language_info": {
   "codemirror_mode": {
    "name": "ipython",
    "version": 3
   },
   "file_extension": ".py",
   "mimetype": "text/x-python",
   "name": "python",
   "nbconvert_exporter": "python",
   "pygments_lexer": "ipython3",
   "version": "3.10.16"
  }
 },
 "nbformat": 4,
 "nbformat_minor": 5
}
