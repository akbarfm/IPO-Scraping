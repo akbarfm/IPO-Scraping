{
 "cells": [
  {
   "cell_type": "code",
   "execution_count": null,
   "id": "f7104893-22e4-4d60-a08a-a4df15148a50",
   "metadata": {},
   "outputs": [],
   "source": [
    "# import requests\n",
    "# import pandas as pd\n",
    "\n",
    "# url = \"https://e-ipo.co.id/id/ipo/index?per-page=&query=&sort=-updated_at&status_id=5&view=grid\"\n",
    "# params = {\n",
    "#     'status_id': 5,\n",
    "#     'sort': '-updated_at',\n",
    "#     'view': 'grid',\n",
    "#     'per-page': 100\n",
    "# }\n",
    "\n",
    "# headers = {\n",
    "#     'User-Agent': 'Mozilla/5.0',\n",
    "#     'Accept': 'application/json'\n",
    "# }\n",
    "\n"
   ]
  },
  {
   "cell_type": "code",
   "execution_count": 1,
   "id": "6c8eb49a-0e93-444b-9b1c-bc2524b160f1",
   "metadata": {},
   "outputs": [],
   "source": [
    "import requests\n",
    "from bs4 import BeautifulSoup\n",
    "import pandas as pd"
   ]
  },
  {
   "cell_type": "code",
   "execution_count": 2,
   "id": "27f30ffc-a057-496a-bb02-0d632490c51f",
   "metadata": {},
   "outputs": [],
   "source": [
    "url = 'http://quotes.toscrape.com'\n",
    "response = requests.get(url)\n"
   ]
  },
  {
   "cell_type": "code",
   "execution_count": 12,
   "id": "e8d5bdc6-17b4-4115-89a3-3a3148bd546f",
   "metadata": {},
   "outputs": [],
   "source": [
    "soup = BeautifulSoup(response.text,'lxml')"
   ]
  },
  {
   "cell_type": "code",
   "execution_count": 29,
   "id": "e0d4690f-179c-47bf-b329-32c8bd7216cf",
   "metadata": {},
   "outputs": [
    {
     "name": "stdout",
     "output_type": "stream",
     "text": [
      "['change', 'deep-thoughts', 'thinking', 'world']\n",
      "['abilities', 'choices']\n",
      "['inspirational', 'life', 'live', 'miracle', 'miracles']\n",
      "['aliteracy', 'books', 'classic', 'humor']\n",
      "['be-yourself', 'inspirational']\n",
      "['adulthood', 'success', 'value']\n",
      "['life', 'love']\n",
      "['edison', 'failure', 'inspirational', 'paraphrased']\n",
      "['misattributed-eleanor-roosevelt']\n",
      "['humor', 'obvious', 'simile']\n"
     ]
    }
   ],
   "source": [
    "for quote in soup.find_all('div', class_='quote'):\n",
    "    text = quote.find('span', class_='text').get_text(strip=True)\n",
    "    author = quote.find('small', class_='author').get_text(strip=True)\n",
    "    tags = [tag.get_text(strip=True) for tag in quote.find_all('a', class_='tag')]\n",
    "\n",
    "    print(tags)"
   ]
  },
  {
   "cell_type": "code",
   "execution_count": 27,
   "id": "72ba3377-ead0-44f6-9ff3-ad17fc82102a",
   "metadata": {},
   "outputs": [
    {
     "data": {
      "text/plain": [
       "'“The world as we have created it is a process of our thinking. It cannot be changed without changing our thinking.”byAlbert Einstein(about)Tags:changedeep-thoughtsthinkingworld'"
      ]
     },
     "execution_count": 27,
     "metadata": {},
     "output_type": "execute_result"
    }
   ],
   "source": []
  },
  {
   "cell_type": "code",
   "execution_count": null,
   "id": "221dc786-47d6-4d4b-acef-ff31e55ec309",
   "metadata": {},
   "outputs": [],
   "source": []
  }
 ],
 "metadata": {
  "kernelspec": {
   "display_name": "Python 3 (ipykernel)",
   "language": "python",
   "name": "python3"
  },
  "language_info": {
   "codemirror_mode": {
    "name": "ipython",
    "version": 3
   },
   "file_extension": ".py",
   "mimetype": "text/x-python",
   "name": "python",
   "nbconvert_exporter": "python",
   "pygments_lexer": "ipython3",
   "version": "3.10.16"
  }
 },
 "nbformat": 4,
 "nbformat_minor": 5
}
